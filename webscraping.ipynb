{
 "cells": [
  {
   "cell_type": "code",
   "execution_count": null,
   "id": "9867f481",
   "metadata": {},
   "outputs": [],
   "source": [
    "import requests\n",
    "from bs4 import BeautifulSoup\n",
    "import csv"
   ]
  },
  {
   "cell_type": "code",
   "execution_count": 2,
   "id": "3dcc509f",
   "metadata": {},
   "outputs": [],
   "source": [
    "url = 'https://www.amazon.in/New-Apple-iPhone-12-128GB/product-reviews/B08L5WJD1C/ref=cm_cr_arp_d_viewopt_rvwer?ie=UTF8&reviewerType=avp_only_reviews&formatType=current_format&pageNumber=1'\n",
    "base_url = url[:-1]  # remove trailing slash\n",
    "page_num = 1"
   ]
  },
  {
   "cell_type": "code",
   "execution_count": 3,
   "id": "63c0b230",
   "metadata": {},
   "outputs": [],
   "source": [
    "review_list = []\n"
   ]
  },
  {
   "cell_type": "code",
   "execution_count": null,
   "id": "ee296e49",
   "metadata": {},
   "outputs": [],
   "source": [
    "while True:\n",
    "    # construct url for each page of reviews\n",
    "    page_url = f'{base_url}{page_num}/'\n",
    "    page = requests.get(page_url)\n",
    "    soup = BeautifulSoup(page.content, 'html.parser')\n",
    "    \n",
    "    # check if there are reviews on the current page\n",
    "    if not soup.find_all('div', {'class': 'a-section review aok-relative'}):\n",
    "        break"
   ]
  },
  {
   "cell_type": "code",
   "execution_count": null,
   "id": "24445554",
   "metadata": {},
   "outputs": [],
   "source": [
    "reviews = soup.find_all('div',class_=\"a-section a-spacing-none review-views celwidget\")\n",
    "    for review in reviews:\n",
    "        title = review.find('a',class_=\"a-size-base a-link-normal review-title a-color-base review-title-content a-text-bold\").get_text().strip()\n",
    "        text = review.find('span',class_=\"a-size-base a-color-secondary review-date\").get_text().strip()\n",
    "        style = review.find('a',class_=\"a-size-mini a-link-normal a-color-secondary\").get_text().strip()\n",
    "        color = review.find('a',class_=\"a-icon a-icon-text-separator\").get_text().strip()\n",
    "        verified = review.find('span',class_=\"a-size-mini a-color-state a-text-bold\").get_text().strip()\n"
   ]
  },
  {
   "cell_type": "code",
   "execution_count": null,
   "id": "9fb699d5",
   "metadata": {},
   "outputs": [],
   "source": [
    "review_dict = {'Title': title, 'Text': text, 'Style Name': style, 'Color': color, 'Verified Purchase': verified}\n",
    "        review_list.append(review_dict)\n",
    "    "
   ]
  },
  {
   "cell_type": "code",
   "execution_count": null,
   "id": "1060ab01",
   "metadata": {},
   "outputs": [],
   "source": [
    "page_num += 1\n",
    "    if page_num > 100:  # scrape data for first 100 pages only\n",
    "        break\n",
    "    "
   ]
  },
  {
   "cell_type": "code",
   "execution_count": null,
   "id": "c29c4d24",
   "metadata": {},
   "outputs": [],
   "source": [
    "# Save scraped data to a CSV file\n",
    "with open('iphone_reviews.csv', 'w', newline='', encoding='utf-8') as csvfile:\n",
    "    fieldnames = ['Title', 'Text', 'Style Name', 'Color', 'Verified Purchase']\n",
    "    writer = csv.DictWriter(csvfile, fieldnames=fieldnames)\n",
    "    writer.writeheader()\n",
    "    for review in review_list:\n",
    "        writer.writerow(review)\n"
   ]
  },
  {
   "cell_type": "code",
   "execution_count": null,
   "id": "03b2c8c9",
   "metadata": {},
   "outputs": [],
   "source": [
    "import nltk\n",
    "from nltk.tokenize import word_tokenize\n",
    "from nltk.corpus import stopwords\n",
    "from collections import Counter\n"
   ]
  },
  {
   "cell_type": "code",
   "execution_count": null,
   "id": "63e594d5",
   "metadata": {},
   "outputs": [],
   "source": [
    "nltk.download('punkt')\n",
    "nltk.download('stopwords')\n"
   ]
  },
  {
   "cell_type": "code",
   "execution_count": null,
   "id": "98548c2e",
   "metadata": {},
   "outputs": [],
   "source": [
    "# Read scraped data from CSV file\n",
    "reviews = []\n",
    "with open('iphone_reviews.csv', 'r', newline='', encoding='utf-8') as csvfile:\n",
    "    reader = csv.DictReader(csvfile)\n",
    "    for row in reader:\n",
    "        reviews.append(row['Text'])\n"
   ]
  },
  {
   "cell_type": "code",
   "execution_count": null,
   "id": "3ab3f40f",
   "metadata": {},
   "outputs": [],
   "source": [
    "# Tokenize text and remove stop words\n",
    "stop_words = set(stopwords.words('english'))\n",
    "tokens = [word_tokenize(review.lower()) for review in reviews]\n",
    "filtered_tokens = [[word for word in token if word not in stop_words] for token in tokens]\n"
   ]
  },
  {
   "cell_type": "code",
   "execution_count": null,
   "id": "ebfd545a",
   "metadata": {},
   "outputs": [],
   "source": [
    "# Count frequency of words and extract top 10 words\n",
    "word_count = Counter([word for tokens in filtered_tokens for word in tokens])\n",
    "top_words = word_count.most_common(10)\n"
   ]
  },
  {
   "cell_type": "code",
   "execution_count": null,
   "id": "0d7bfdfd",
   "metadata": {},
   "outputs": [],
   "source": [
    "print('Top 10 most frequent words:')\n",
    "for word in top_words:\n",
    "print(word[0], word[1])"
   ]
  },
  {
   "cell_type": "code",
   "execution_count": null,
   "id": "46dfde9d",
   "metadata": {},
   "outputs": [],
   "source": []
  },
  {
   "cell_type": "code",
   "execution_count": null,
   "id": "0581101e",
   "metadata": {},
   "outputs": [],
   "source": []
  },
  {
   "cell_type": "code",
   "execution_count": null,
   "id": "d4b0f4fc",
   "metadata": {},
   "outputs": [],
   "source": []
  },
  {
   "cell_type": "code",
   "execution_count": null,
   "id": "ea71407a",
   "metadata": {},
   "outputs": [],
   "source": []
  },
  {
   "cell_type": "code",
   "execution_count": null,
   "id": "c3bf179c",
   "metadata": {},
   "outputs": [],
   "source": []
  },
  {
   "cell_type": "code",
   "execution_count": null,
   "id": "964f8474",
   "metadata": {},
   "outputs": [],
   "source": []
  },
  {
   "cell_type": "code",
   "execution_count": null,
   "id": "419ed105",
   "metadata": {},
   "outputs": [],
   "source": []
  },
  {
   "cell_type": "code",
   "execution_count": null,
   "id": "c2e12d61",
   "metadata": {},
   "outputs": [],
   "source": []
  },
  {
   "cell_type": "code",
   "execution_count": null,
   "id": "78986103",
   "metadata": {},
   "outputs": [],
   "source": []
  },
  {
   "cell_type": "code",
   "execution_count": null,
   "id": "c674fac3",
   "metadata": {},
   "outputs": [],
   "source": []
  }
 ],
 "metadata": {
  "kernelspec": {
   "display_name": "Python 3 (ipykernel)",
   "language": "python",
   "name": "python3"
  },
  "language_info": {
   "codemirror_mode": {
    "name": "ipython",
    "version": 3
   },
   "file_extension": ".py",
   "mimetype": "text/x-python",
   "name": "python",
   "nbconvert_exporter": "python",
   "pygments_lexer": "ipython3",
   "version": "3.10.9"
  }
 },
 "nbformat": 4,
 "nbformat_minor": 5
}
